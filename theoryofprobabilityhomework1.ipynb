{
 "cells": [
  {
   "cell_type": "code",
   "execution_count": 6,
   "id": "sought-focus",
   "metadata": {},
   "outputs": [
    {
     "data": {
      "text/plain": [
       "13"
      ]
     },
     "execution_count": 6,
     "metadata": {},
     "output_type": "execute_result"
    }
   ],
   "source": [
    "#посчитаем количество крестей в колоде#\n",
    "n=52\n",
    "t=int(n/4)\n",
    "t"
   ]
  },
  {
   "cell_type": "code",
   "execution_count": 2,
   "id": "progressive-maryland",
   "metadata": {},
   "outputs": [
    {
     "data": {
      "text/plain": [
       "0.0026410564225690276"
      ]
     },
     "execution_count": 2,
     "metadata": {},
     "output_type": "execute_result"
    }
   ],
   "source": [
    "#теперь посчитаем вероятность выпадения крестей при выборе 4 карт#\n",
    "p1=t/n\n",
    "p2=(t-1)/(n-1)\n",
    "p3=(t-2)/(n-2)\n",
    "p4=(t-3)/(n-3)\n",
    "p=p1*p2*p3*p4\n",
    "p"
   ]
  },
  {
   "cell_type": "code",
   "execution_count": 3,
   "id": "homeless-concert",
   "metadata": {},
   "outputs": [
    {
     "data": {
      "text/plain": [
       "48"
      ]
     },
     "execution_count": 3,
     "metadata": {},
     "output_type": "execute_result"
    }
   ],
   "source": [
    "#теперь узнаем сколько карт без тузов#\n",
    "a=n-4\n",
    "a"
   ]
  },
  {
   "cell_type": "code",
   "execution_count": 4,
   "id": "young-still",
   "metadata": {},
   "outputs": [
    {
     "data": {
      "text/plain": [
       "17296.0"
      ]
     },
     "execution_count": 4,
     "metadata": {},
     "output_type": "execute_result"
    }
   ],
   "source": [
    "#узнаем количество комбинаций того, что выпадет хотя бы 1 туз#\n",
    "from math import factorial\n",
    "z=4\n",
    "x=1\n",
    "p1=factorial(z)/(factorial(x)*factorial(z-x))\n",
    "c=3\n",
    "a=48\n",
    "p01=factorial(a)/(factorial(c)*factorial(a-c))\n",
    "p01"
   ]
  },
  {
   "cell_type": "code",
   "execution_count": 10,
   "id": "buried-intermediate",
   "metadata": {},
   "outputs": [
    {
     "data": {
      "text/plain": [
       "1128.0"
      ]
     },
     "execution_count": 10,
     "metadata": {},
     "output_type": "execute_result"
    }
   ],
   "source": [
    "#узнаем количество комбинаций того, что выпадет хотя бы 2 тузa#\n",
    "z=4\n",
    "x1=2\n",
    "p2=factorial(z)/(factorial(x1)*factorial(z-x1))\n",
    "c1=2\n",
    "a=48\n",
    "p02=factorial(a)/(factorial(c1)*factorial(a-c1))\n",
    "p02"
   ]
  },
  {
   "cell_type": "code",
   "execution_count": 9,
   "id": "photographic-matthew",
   "metadata": {},
   "outputs": [
    {
     "data": {
      "text/plain": [
       "48.0"
      ]
     },
     "execution_count": 9,
     "metadata": {},
     "output_type": "execute_result"
    }
   ],
   "source": [
    "#узнаем количество комбинаций того, что выпадет хотя бы 3 тузa#\n",
    "z=4\n",
    "x2=3\n",
    "p2=factorial(z)/(factorial(x2)*factorial(z-x2))\n",
    "c2=1\n",
    "a=48\n",
    "p03=factorial(a)/(factorial(c2)*factorial(a-c2))\n",
    "p03"
   ]
  },
  {
   "cell_type": "code",
   "execution_count": 12,
   "id": "particular-premium",
   "metadata": {},
   "outputs": [
    {
     "data": {
      "text/plain": [
       "1.0"
      ]
     },
     "execution_count": 12,
     "metadata": {},
     "output_type": "execute_result"
    }
   ],
   "source": [
    "#узнаем количество комбинаций того, что выпадет хотя бы 4 тузa#\n",
    "z=4\n",
    "x3=4\n",
    "p3=factorial(z)/(factorial(x3)*factorial(z-x3))\n",
    "c3=0\n",
    "a=48\n",
    "p04=factorial(a)/(factorial(c3)*factorial(a-c3))\n",
    "p04"
   ]
  },
  {
   "cell_type": "code",
   "execution_count": 18,
   "id": "functioning-catering",
   "metadata": {},
   "outputs": [
    {
     "data": {
      "text/plain": [
       "194580.0"
      ]
     },
     "execution_count": 18,
     "metadata": {},
     "output_type": "execute_result"
    }
   ],
   "source": [
    "#узнаем количество комбинаций того, что выпадет любая карта без тузов#\n",
    "z=4\n",
    "x4=4\n",
    "p4=factorial(z)/(factorial(x4)*factorial(z-x4))\n",
    "c4=4\n",
    "a=48\n",
    "p05=factorial(a)/(factorial(c4)*factorial(a-c4))\n",
    "p05"
   ]
  },
  {
   "cell_type": "code",
   "execution_count": 21,
   "id": "classified-offer",
   "metadata": {},
   "outputs": [
    {
     "data": {
      "text/plain": [
       "0.09469626888683318"
      ]
     },
     "execution_count": 21,
     "metadata": {},
     "output_type": "execute_result"
    }
   ],
   "source": [
    "#найдем вероятность того, что выпадет хотя бы 1 туз#\n",
    "p=p01+p02+p03+p04\n",
    "prob=p/p05\n",
    "prob"
   ]
  },
  {
   "cell_type": "code",
   "execution_count": 26,
   "id": "immune-proxy",
   "metadata": {},
   "outputs": [
    {
     "data": {
      "text/plain": [
       "0.008333333333333333"
      ]
     },
     "execution_count": 26,
     "metadata": {},
     "output_type": "execute_result"
    }
   ],
   "source": [
    "#теперь выясним какова вероятность того, что человек с первой попытки нажмет верную комбинацию цифр#\n",
    "n=10\n",
    "k=3\n",
    "p=factorial(n)/(factorial(k)*factorial(n-k))\n",
    "q=1/p\n",
    "q"
   ]
  },
  {
   "cell_type": "code",
   "execution_count": 25,
   "id": "ongoing-attraction",
   "metadata": {},
   "outputs": [
    {
     "data": {
      "text/plain": [
       "0.18461538461538457"
      ]
     },
     "execution_count": 25,
     "metadata": {},
     "output_type": "execute_result"
    }
   ],
   "source": [
    "#узнаем, какова вероятность того, что все 3 детали будут окрашены#\n",
    "n=15\n",
    "k=9\n",
    "p1=k/n\n",
    "p2=(k-1)/(n-1)\n",
    "p3=(k-2)/(n-2)\n",
    "p=p1*p2*p3\n",
    "p"
   ]
  },
  {
   "cell_type": "code",
   "execution_count": 23,
   "id": "grave-emphasis",
   "metadata": {},
   "outputs": [
    {
     "data": {
      "text/plain": [
       "0.00010101010101010102"
      ]
     },
     "execution_count": 23,
     "metadata": {},
     "output_type": "execute_result"
    }
   ],
   "source": [
    "#узнаем, какова вероятность того, что оба билета из 100 окажутся верными#\n",
    "n=100\n",
    "k=1\n",
    "p=(k/n)*(k/(n-1))\n",
    "p"
   ]
  },
  {
   "cell_type": "code",
   "execution_count": null,
   "id": "defined-pastor",
   "metadata": {},
   "outputs": [],
   "source": []
  }
 ],
 "metadata": {
  "kernelspec": {
   "display_name": "Python 3",
   "language": "python",
   "name": "python3"
  },
  "language_info": {
   "codemirror_mode": {
    "name": "ipython",
    "version": 3
   },
   "file_extension": ".py",
   "mimetype": "text/x-python",
   "name": "python",
   "nbconvert_exporter": "python",
   "pygments_lexer": "ipython3",
   "version": "3.8.5"
  }
 },
 "nbformat": 4,
 "nbformat_minor": 5
}
